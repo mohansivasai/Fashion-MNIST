{
  "nbformat": 4,
  "nbformat_minor": 0,
  "metadata": {
    "colab": {
      "name": "Fashion_MNIST.ipynb",
      "provenance": [],
      "collapsed_sections": [],
      "authorship_tag": "ABX9TyOwbVojaQeTSYhxXCcWjhRL",
      "include_colab_link": true
    },
    "kernelspec": {
      "name": "python3",
      "display_name": "Python 3"
    },
    "accelerator": "GPU"
  },
  "cells": [
    {
      "cell_type": "markdown",
      "metadata": {
        "id": "view-in-github",
        "colab_type": "text"
      },
      "source": [
        "<a href=\"https://colab.research.google.com/github/mohansivasai/Fashion-MNIST/blob/master/Fashion_MNIST.ipynb\" target=\"_parent\"><img src=\"https://colab.research.google.com/assets/colab-badge.svg\" alt=\"Open In Colab\"/></a>"
      ]
    },
    {
      "cell_type": "code",
      "metadata": {
        "id": "ckMbO4qS9GqL",
        "colab_type": "code",
        "colab": {
          "base_uri": "https://localhost:8080/",
          "height": 88
        },
        "outputId": "d9986fe4-28a4-4d2b-edd2-a8c9f515e5d2"
      },
      "source": [
        "#imporing the dependencies\n",
        "import numpy as  np\n",
        "import matplotlib.pyplot as plt\n",
        "import tensorflow as tf\n",
        "import seaborn  as sns\n",
        "from tensorflow import keras\n",
        "print(tf.__version__)\n",
        "%matplotlib inline"
      ],
      "execution_count": 51,
      "outputs": [
        {
          "output_type": "stream",
          "text": [
            "2.2.0-rc2\n"
          ],
          "name": "stdout"
        },
        {
          "output_type": "stream",
          "text": [
            "/usr/local/lib/python3.6/dist-packages/statsmodels/tools/_testing.py:19: FutureWarning: pandas.util.testing is deprecated. Use the functions in the public API at pandas.testing instead.\n",
            "  import pandas.util.testing as tm\n"
          ],
          "name": "stderr"
        }
      ]
    },
    {
      "cell_type": "code",
      "metadata": {
        "id": "-VHFt1NNmUl1",
        "colab_type": "code",
        "colab": {}
      },
      "source": [
        "#loading the data\n",
        "fmnist = keras.datasets.fashion_mnist\n",
        "(x_train,y_train),(x_test,y_test) = fmnist.load_data()"
      ],
      "execution_count": 0,
      "outputs": []
    },
    {
      "cell_type": "code",
      "metadata": {
        "id": "MoPJooJQmp-A",
        "colab_type": "code",
        "colab": {
          "base_uri": "https://localhost:8080/",
          "height": 68
        },
        "outputId": "e5d3b392-9e2a-4ca6-af69-3fb1ac664ea6"
      },
      "source": [
        "#EDA\n",
        "print('no of training images = ',x_train.shape)\n",
        "print('no of testing images = ',x_test.shape)\n",
        "x_train.shape"
      ],
      "execution_count": 8,
      "outputs": [
        {
          "output_type": "stream",
          "text": [
            "no of training images =  (60000, 28, 28)\n",
            "no of testing images =  (10000, 28, 28)\n"
          ],
          "name": "stdout"
        },
        {
          "output_type": "execute_result",
          "data": {
            "text/plain": [
              "(60000, 28, 28)"
            ]
          },
          "metadata": {
            "tags": []
          },
          "execution_count": 8
        }
      ]
    },
    {
      "cell_type": "code",
      "metadata": {
        "id": "rYKZ1Skjndve",
        "colab_type": "code",
        "colab": {
          "base_uri": "https://localhost:8080/",
          "height": 193
        },
        "outputId": "7d8005d5-71cd-4619-a23a-00e028c28b35"
      },
      "source": [
        "f,ax = plt.subplots(nrows=1,ncols=4)\n",
        "i = 0\n",
        "for axes in ax:\n",
        "  axes.imshow(x_train[i],cmap='inferno')\n",
        "  print(y_train[i])\n",
        "  i+=1\n",
        "plt.tight_layout()\n",
        "plt.show()"
      ],
      "execution_count": 25,
      "outputs": [
        {
          "output_type": "stream",
          "text": [
            "9\n",
            "0\n",
            "0\n",
            "3\n"
          ],
          "name": "stdout"
        },
        {
          "output_type": "display_data",
          "data": {
            "image/png": "[encoded data removed]",
            "text/plain": [
              "<Figure size 432x288 with 4 Axes>"
            ]
          },
          "metadata": {
            "tags": [],
            "needs_background": "light"
          }
        }
      ]
    },
    {
      "cell_type": "code",
      "metadata": {
        "id": "-NT_RRRwvq4v",
        "colab_type": "code",
        "colab": {}
      },
      "source": [
        "x_train = x_train/255\n",
        "x_test = x_test/255"
      ],
      "execution_count": 0,
      "outputs": []
    },
    {
      "cell_type": "code",
      "metadata": {
        "id": "8g_VOv34oihD",
        "colab_type": "code",
        "colab": {}
      },
      "source": [
        "#Defining the model\n",
        "model = tf.keras.Sequential([\n",
        "                            keras.layers.Flatten(input_shape=(28,28)),\n",
        "                            keras.layers.Dense(256,activation='relu'),\n",
        "                            keras.layers.Dense(512,activation='relu'),\n",
        "                            keras.layers.Dense(10,activation='softmax')\n",
        "])"
      ],
      "execution_count": 0,
      "outputs": []
    },
    {
      "cell_type": "code",
      "metadata": {
        "id": "Whje-SLmpPuS",
        "colab_type": "code",
        "colab": {}
      },
      "source": [
        "#Compiling the model\n",
        "model.compile(optimizer='adam',loss='sparse_categorical_crossentropy',metrics=['accuracy'])"
      ],
      "execution_count": 0,
      "outputs": []
    },
    {
      "cell_type": "code",
      "metadata": {
        "id": "5X3UEjm-3u_R",
        "colab_type": "code",
        "colab": {}
      },
      "source": [
        "#callbacks\n",
        "class Callback(tf.keras.callbacks.Callback):\n",
        "  def on_epoch_end(self,epoch,logs={}):\n",
        "    if logs.get('accuracy') > 0.96:\n",
        "      print(\"\\n Reached the desired accuracy so stoping the training!\")\n",
        "      self.model.stop_training = True\n",
        "callback = Callback()"
      ],
      "execution_count": 0,
      "outputs": []
    },
    {
      "cell_type": "code",
      "metadata": {
        "id": "T4b-JwY74wqF",
        "colab_type": "code",
        "colab": {
          "base_uri": "https://localhost:8080/",
          "height": 357
        },
        "outputId": "070e014e-7a08-405b-d0ae-e5a4fd86bc6b"
      },
      "source": [
        "#Training the model\n",
        "hist = model.fit(x_train,y_train,batch_size=64,epochs=10,verbose=1,callbacks=[callback])"
      ],
      "execution_count": 60,
      "outputs": [
        {
          "output_type": "stream",
          "text": [
            "Epoch 1/10\n",
            "938/938 [==============================] - 5s 6ms/step - loss: 0.4716 - accuracy: 0.8299\n",
            "Epoch 2/10\n",
            "938/938 [==============================] - 6s 6ms/step - loss: 0.3558 - accuracy: 0.8700\n",
            "Epoch 3/10\n",
            "938/938 [==============================] - 6s 6ms/step - loss: 0.3205 - accuracy: 0.8809\n",
            "Epoch 4/10\n",
            "938/938 [==============================] - 6s 6ms/step - loss: 0.2967 - accuracy: 0.8900\n",
            "Epoch 5/10\n",
            "938/938 [==============================] - 6s 6ms/step - loss: 0.2757 - accuracy: 0.8965\n",
            "Epoch 6/10\n",
            "938/938 [==============================] - 6s 6ms/step - loss: 0.2636 - accuracy: 0.9010\n",
            "Epoch 7/10\n",
            "938/938 [==============================] - 5s 6ms/step - loss: 0.2484 - accuracy: 0.9060\n",
            "Epoch 8/10\n",
            "938/938 [==============================] - 5s 5ms/step - loss: 0.2378 - accuracy: 0.9098\n",
            "Epoch 9/10\n",
            "938/938 [==============================] - 5s 5ms/step - loss: 0.2263 - accuracy: 0.9136\n",
            "Epoch 10/10\n",
            "938/938 [==============================] - 5s 6ms/step - loss: 0.2161 - accuracy: 0.9179\n"
          ],
          "name": "stdout"
        }
      ]
    },
    {
      "cell_type": "code",
      "metadata": {
        "id": "3fbRklqr7Ds0",
        "colab_type": "code",
        "colab": {
          "base_uri": "https://localhost:8080/",
          "height": 68
        },
        "outputId": "5cf0a4ee-7acd-4a70-e6ae-8864b3a426ca"
      },
      "source": [
        "#evaluationg the model\n",
        "pred = model.evaluate(x_test,y_test)\n",
        "print(\"loss = {}\".format(pred[0]))\n",
        "print('Accuracy on test set = {}'.format(pred[1]))"
      ],
      "execution_count": 61,
      "outputs": [
        {
          "output_type": "stream",
          "text": [
            "313/313 [==============================] - 1s 2ms/step - loss: 0.3413 - accuracy: 0.8885\n",
            "loss = 0.3413143754005432\n",
            "Accuracy on test set = 0.8884999752044678\n"
          ],
          "name": "stdout"
        }
      ]
    },
    {
      "cell_type": "code",
      "metadata": {
        "id": "ZU8XiSfP8miY",
        "colab_type": "code",
        "colab": {
          "base_uri": "https://localhost:8080/",
          "height": 367
        },
        "outputId": "f04429a3-df71-4b0d-aac5-e26e71e83de4"
      },
      "source": [
        "# evaluating the loss and accuracy\n",
        "acc = hist.history['accuracy']\n",
        "loss = hist.history['loss']\n",
        "epochs = hist.epoch\n",
        "f,ax = plt.subplots(nrows=1,ncols=2,figsize=(10,5))\n",
        "ax[0].plot(epochs,acc,color='blue',ls=':')\n",
        "ax[0].set_title('Epochs Vs accuracy')\n",
        "ax[0].set_xlabel('epochs')\n",
        "ax[0].set_ylabel('Accuracy')\n",
        "ax[1].plot(epochs,loss,color='red',ls='--')\n",
        "ax[1].set_title(\"Epochs Vs Loss\")\n",
        "ax[1].set_xlabel('epochs')\n",
        "ax[1].set_ylabel(\"loss\")"
      ],
      "execution_count": 62,
      "outputs": [
        {
          "output_type": "execute_result",
          "data": {
            "text/plain": [
              "Text(0, 0.5, 'loss')"
            ]
          },
          "metadata": {
            "tags": []
          },
          "execution_count": 62
        },
        {
          "output_type": "display_data",
          "data": {
            "image/png": "[encoded data removed]",
            "text/plain": [
              "<Figure size 720x360 with 2 Axes>"
            ]
          },
          "metadata": {
            "tags": [],
            "needs_background": "light"
          }
        }
      ]
    },
    {
      "cell_type": "code",
      "metadata": {
        "id": "HKoUGHXt-3s7",
        "colab_type": "code",
        "colab": {}
      },
      "source": [
        ""
      ],
      "execution_count": 0,
      "outputs": []
    }
  ]
}